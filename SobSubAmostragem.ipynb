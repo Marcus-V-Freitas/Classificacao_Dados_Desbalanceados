{
  "nbformat": 4,
  "nbformat_minor": 0,
  "metadata": {
    "colab": {
      "name": "SobSubAmostragem.ipynb",
      "provenance": [],
      "collapsed_sections": [
        "N4mKPTlK6UoS",
        "NyDNqldhNEuD",
        "p3GBdh4-PrAw",
        "lvqUgyCRb_EA",
        "y8ulCAcqhs21"
      ]
    },
    "kernelspec": {
      "name": "python3",
      "display_name": "Python 3"
    }
  },
  "cells": [
    {
      "cell_type": "markdown",
      "metadata": {
        "id": "kkLZT1UI6H9c"
      },
      "source": [
        "# Classificação com dados dados desbalanceados"
      ]
    },
    {
      "cell_type": "markdown",
      "metadata": {
        "id": "N4mKPTlK6UoS"
      },
      "source": [
        "# Carregamento da base de dados"
      ]
    },
    {
      "cell_type": "markdown",
      "metadata": {
        "id": "K-vwB0GA8eeo"
      },
      "source": [
        "Importações iniciais das bibliotecas"
      ]
    },
    {
      "cell_type": "code",
      "metadata": {
        "id": "JA7GdKPc6dY4"
      },
      "source": [
        "import pandas as pd\n",
        "import numpy as np\n",
        "import random"
      ],
      "execution_count": null,
      "outputs": []
    },
    {
      "cell_type": "markdown",
      "metadata": {
        "id": "wdTDQct-8hqM"
      },
      "source": [
        "Atribuição dos dados do arquivo para uma variável"
      ]
    },
    {
      "cell_type": "code",
      "metadata": {
        "id": "MJb7Ymcy6mPB"
      },
      "source": [
        "dataset=pd.read_csv(\"credit_data.csv\")"
      ],
      "execution_count": null,
      "outputs": []
    },
    {
      "cell_type": "markdown",
      "metadata": {
        "id": "OAwPbiJm8oCd"
      },
      "source": [
        "Visualização da variável"
      ]
    },
    {
      "cell_type": "code",
      "metadata": {
        "id": "5vlW_ZLZ60DS"
      },
      "source": [
        "dataset.shape"
      ],
      "execution_count": null,
      "outputs": []
    },
    {
      "cell_type": "markdown",
      "metadata": {
        "id": "nM2veSU88sYE"
      },
      "source": [
        "Visualização dos 5 primeiros dados do dataset"
      ]
    },
    {
      "cell_type": "code",
      "metadata": {
        "id": "ZNeHBWZ864D2"
      },
      "source": [
        "dataset.head()"
      ],
      "execution_count": null,
      "outputs": []
    },
    {
      "cell_type": "markdown",
      "metadata": {
        "id": "fdbSA-fU8wvK"
      },
      "source": [
        "Excluir registros com valores nulos"
      ]
    },
    {
      "cell_type": "code",
      "metadata": {
        "id": "8ayd_0ec7C3O"
      },
      "source": [
        "dataset.dropna(inplace=True)\n",
        "dataset.shape"
      ],
      "execution_count": null,
      "outputs": []
    },
    {
      "cell_type": "markdown",
      "metadata": {
        "id": "pXzScBMl84OZ"
      },
      "source": [
        "Importação da biblioteca de machine learning e visualização dos dados de forma gráfica (OBS: Os dados estão desbalanceados devido haver mais pagadores do que devedores e algoritmos de machine learning trabalham melhor com equivalência)"
      ]
    },
    {
      "cell_type": "code",
      "metadata": {
        "id": "sN0DmFsu7MkS"
      },
      "source": [
        "import seaborn as sns\n",
        "sns.countplot(dataset['c#default']);"
      ],
      "execution_count": null,
      "outputs": []
    },
    {
      "cell_type": "markdown",
      "metadata": {
        "id": "HxynKYvo9S7b"
      },
      "source": [
        "Atribuí à variável todas as linhas e somente as colunas de 1 à 3"
      ]
    },
    {
      "cell_type": "code",
      "metadata": {
        "id": "CrEoLYff7zc4"
      },
      "source": [
        "X = dataset.iloc[:,1:4].values"
      ],
      "execution_count": null,
      "outputs": []
    },
    {
      "cell_type": "markdown",
      "metadata": {
        "id": "mwE8pk6F9a5A"
      },
      "source": [
        "Visualização do dataset X"
      ]
    },
    {
      "cell_type": "code",
      "metadata": {
        "id": "tir-PVkZ8IY4"
      },
      "source": [
        "X.shape"
      ],
      "execution_count": null,
      "outputs": []
    },
    {
      "cell_type": "markdown",
      "metadata": {
        "id": "h59k2fJS9duG"
      },
      "source": [
        "Atribuí à variável todas as linhas e somente a coluna 4"
      ]
    },
    {
      "cell_type": "code",
      "metadata": {
        "id": "nMc47Zuz8RXd"
      },
      "source": [
        "Y = dataset.iloc[:,4].values"
      ],
      "execution_count": null,
      "outputs": []
    },
    {
      "cell_type": "markdown",
      "metadata": {
        "id": "sR3jTypV9jvB"
      },
      "source": [
        "Visualizalção do dataset Y"
      ]
    },
    {
      "cell_type": "code",
      "metadata": {
        "id": "iODe4Rmm8Wtg"
      },
      "source": [
        "Y.shape"
      ],
      "execution_count": null,
      "outputs": []
    },
    {
      "cell_type": "markdown",
      "metadata": {
        "id": "NyDNqldhNEuD"
      },
      "source": [
        "# Base de Treinamento e Teste"
      ]
    },
    {
      "cell_type": "markdown",
      "metadata": {
        "id": "p-DvhQ-YXdsf"
      },
      "source": [
        "Importada biblioteca para facilitação de amostragem extratificada de dados"
      ]
    },
    {
      "cell_type": "code",
      "metadata": {
        "id": "iS4wj-ypNKZR"
      },
      "source": [
        "from sklearn.model_selection import train_test_split"
      ],
      "execution_count": null,
      "outputs": []
    },
    {
      "cell_type": "markdown",
      "metadata": {
        "id": "8a70keT7Xk40"
      },
      "source": [
        "Atribui à cada dataset suas devidas quantidades de dados estratificadas. As bases de teste contém 20% da população"
      ]
    },
    {
      "cell_type": "code",
      "metadata": {
        "id": "knhghjLTNZTn"
      },
      "source": [
        "X_Treinamento, X_Teste, Y_Treinamento, Y_Teste = train_test_split(X,Y,test_size =0.2,stratify=Y)"
      ],
      "execution_count": null,
      "outputs": []
    },
    {
      "cell_type": "markdown",
      "metadata": {
        "id": "QVeFTPGnXzAC"
      },
      "source": [
        "Exibição dos dados contidos nos modelos de treinamento "
      ]
    },
    {
      "cell_type": "code",
      "metadata": {
        "colab": {
          "base_uri": "https://localhost:8080/"
        },
        "id": "3wmi36ugOJsS",
        "outputId": "174caead-6751-4fc2-c4d8-c40ff1c47107"
      },
      "source": [
        "X_Treinamento.shape, Y_Treinamento.shape"
      ],
      "execution_count": null,
      "outputs": [
        {
          "output_type": "execute_result",
          "data": {
            "text/plain": [
              "((1597, 3), (1597,))"
            ]
          },
          "metadata": {
            "tags": []
          },
          "execution_count": 33
        }
      ]
    },
    {
      "cell_type": "markdown",
      "metadata": {
        "id": "-ciOIEZPX5sM"
      },
      "source": [
        "Exibição dos dados contidos nos modelos de teste"
      ]
    },
    {
      "cell_type": "code",
      "metadata": {
        "colab": {
          "base_uri": "https://localhost:8080/"
        },
        "id": "98UpqK5vOVL1",
        "outputId": "8a7febb2-4c6f-47ae-cddd-a6e756a951d2"
      },
      "source": [
        "X_Teste.shape, Y_Teste.shape"
      ],
      "execution_count": null,
      "outputs": [
        {
          "output_type": "execute_result",
          "data": {
            "text/plain": [
              "((400, 3), (400,))"
            ]
          },
          "metadata": {
            "tags": []
          },
          "execution_count": 34
        }
      ]
    },
    {
      "cell_type": "markdown",
      "metadata": {
        "id": "7DHKzrKiX_lh"
      },
      "source": [
        "Retorna a quantidade de cada item único dentro do dataset Y"
      ]
    },
    {
      "cell_type": "code",
      "metadata": {
        "colab": {
          "base_uri": "https://localhost:8080/"
        },
        "id": "T5Z_8r4hOsCq",
        "outputId": "32d53301-f136-4b65-c64d-289581dfa5ae"
      },
      "source": [
        "np.unique(Y,return_counts=True)"
      ],
      "execution_count": null,
      "outputs": [
        {
          "output_type": "execute_result",
          "data": {
            "text/plain": [
              "(array([0, 1]), array([1714,  283]))"
            ]
          },
          "metadata": {
            "tags": []
          },
          "execution_count": 35
        }
      ]
    },
    {
      "cell_type": "markdown",
      "metadata": {
        "id": "zHzSF9AIYHDw"
      },
      "source": [
        "Verificação da distribuição dos valores contidos no dataset Y"
      ]
    },
    {
      "cell_type": "code",
      "metadata": {
        "colab": {
          "base_uri": "https://localhost:8080/"
        },
        "id": "ToEQVOQ1Oyn2",
        "outputId": "6df79566-c538-45ff-d1d2-baf9e55f984e"
      },
      "source": [
        "1714 / len(dataset), 283 / len(dataset)"
      ],
      "execution_count": null,
      "outputs": [
        {
          "output_type": "execute_result",
          "data": {
            "text/plain": [
              "(0.8582874311467201, 0.14171256885327993)"
            ]
          },
          "metadata": {
            "tags": []
          },
          "execution_count": 36
        }
      ]
    },
    {
      "cell_type": "markdown",
      "metadata": {
        "id": "6LAQUr4VYNGD"
      },
      "source": [
        "Retorna a quantidade de cada item único dentro do dataset de treinamento Y"
      ]
    },
    {
      "cell_type": "code",
      "metadata": {
        "colab": {
          "base_uri": "https://localhost:8080/"
        },
        "id": "qK-YEfkBO8tl",
        "outputId": "d8eabe7a-4519-4cdc-c03b-bfe6bbaa6049"
      },
      "source": [
        "np.unique(Y_Treinamento,return_counts=True)"
      ],
      "execution_count": null,
      "outputs": [
        {
          "output_type": "execute_result",
          "data": {
            "text/plain": [
              "(array([0, 1]), array([1371,  226]))"
            ]
          },
          "metadata": {
            "tags": []
          },
          "execution_count": 37
        }
      ]
    },
    {
      "cell_type": "markdown",
      "metadata": {
        "id": "Fbqw7ITTYSkp"
      },
      "source": [
        "Verificação da distribuição dos valores contidos no dataset de treinamento  Y"
      ]
    },
    {
      "cell_type": "code",
      "metadata": {
        "colab": {
          "base_uri": "https://localhost:8080/"
        },
        "id": "I95hTJz3PDRr",
        "outputId": "1f736c94-1cc6-48c8-ffd6-529db95f1c6a"
      },
      "source": [
        "1371 / len(Y_Treinamento), 226 / len(Y_Treinamento) "
      ],
      "execution_count": null,
      "outputs": [
        {
          "output_type": "execute_result",
          "data": {
            "text/plain": [
              "(0.8584846587351284, 0.14151534126487164)"
            ]
          },
          "metadata": {
            "tags": []
          },
          "execution_count": 38
        }
      ]
    },
    {
      "cell_type": "markdown",
      "metadata": {
        "id": "O9cslU8fYdfb"
      },
      "source": [
        "Retorna a quantidade de cada item único dentro do dataset de teste Y"
      ]
    },
    {
      "cell_type": "code",
      "metadata": {
        "colab": {
          "base_uri": "https://localhost:8080/"
        },
        "id": "45bY29ilPPjB",
        "outputId": "ed1de96c-dd03-4a1b-8b12-f2845e49d8f6"
      },
      "source": [
        "np.unique(Y_Teste,return_counts=True)"
      ],
      "execution_count": null,
      "outputs": [
        {
          "output_type": "execute_result",
          "data": {
            "text/plain": [
              "(array([0, 1]), array([343,  57]))"
            ]
          },
          "metadata": {
            "tags": []
          },
          "execution_count": 39
        }
      ]
    },
    {
      "cell_type": "markdown",
      "metadata": {
        "id": "rDZo7hmvYY9Q"
      },
      "source": [
        "Verificação da distribuição dos valores contidos no dataset de teste Y"
      ]
    },
    {
      "cell_type": "code",
      "metadata": {
        "colab": {
          "base_uri": "https://localhost:8080/"
        },
        "id": "HFk4Rqd_PVO3",
        "outputId": "a2589465-fc9b-420d-b532-181cbd00cae5"
      },
      "source": [
        "343 / len(Y_Teste), 57 / len(Y_Teste)"
      ],
      "execution_count": null,
      "outputs": [
        {
          "output_type": "execute_result",
          "data": {
            "text/plain": [
              "(0.8575, 0.1425)"
            ]
          },
          "metadata": {
            "tags": []
          },
          "execution_count": 40
        }
      ]
    },
    {
      "cell_type": "markdown",
      "metadata": {
        "id": "p3GBdh4-PrAw"
      },
      "source": [
        "# Classificação com Naive Bayes"
      ]
    },
    {
      "cell_type": "markdown",
      "metadata": {
        "id": "SYi7vUltTX5c"
      },
      "source": [
        "Importa a biblioteca de classificação"
      ]
    },
    {
      "cell_type": "code",
      "metadata": {
        "id": "t8vskGcmP2s9"
      },
      "source": [
        "from sklearn.naive_bayes import GaussianNB"
      ],
      "execution_count": null,
      "outputs": []
    },
    {
      "cell_type": "markdown",
      "metadata": {
        "id": "L4Wjqn23TcsU"
      },
      "source": [
        "Cria o modelo e preenche ele com os dados de treinamento (Maior parte dos dados)"
      ]
    },
    {
      "cell_type": "code",
      "metadata": {
        "colab": {
          "base_uri": "https://localhost:8080/"
        },
        "id": "ebhE_9R-P2b1",
        "outputId": "eb909004-fb6a-4e1a-b069-a1cb18dea076"
      },
      "source": [
        "modelo = GaussianNB()\n",
        "modelo.fit(X_Treinamento,Y_Treinamento)"
      ],
      "execution_count": null,
      "outputs": [
        {
          "output_type": "execute_result",
          "data": {
            "text/plain": [
              "GaussianNB(priors=None, var_smoothing=1e-09)"
            ]
          },
          "metadata": {
            "tags": []
          },
          "execution_count": 42
        }
      ]
    },
    {
      "cell_type": "markdown",
      "metadata": {
        "id": "gFYj0looTlqI"
      },
      "source": [
        "Definir variável que conterá as previsões geradas com base nos dados de Teste X (Menor parte dos dados)"
      ]
    },
    {
      "cell_type": "code",
      "metadata": {
        "id": "delSimqMP11i"
      },
      "source": [
        "previsoes= modelo.predict(X_Teste)\n",
        "previsoes"
      ],
      "execution_count": null,
      "outputs": []
    },
    {
      "cell_type": "markdown",
      "metadata": {
        "id": "2y2yJlGtTzjM"
      },
      "source": [
        "Importar biblioteca para comparar os resultados gerados pelas métricas com os presentes no banco de dados (Dados de teste do eixo Y)"
      ]
    },
    {
      "cell_type": "code",
      "metadata": {
        "id": "mwtEsCIyQkmh"
      },
      "source": [
        "from sklearn.metrics import accuracy_score"
      ],
      "execution_count": null,
      "outputs": []
    },
    {
      "cell_type": "markdown",
      "metadata": {
        "id": "Mgx--IsnT93P"
      },
      "source": [
        "Comparar previsões com os dados de teste e verificar percentual de acertos"
      ]
    },
    {
      "cell_type": "code",
      "metadata": {
        "colab": {
          "base_uri": "https://localhost:8080/"
        },
        "id": "z1HGjp9XQpYN",
        "outputId": "e707beb3-a100-4a10-ef13-2f3416ef50fa"
      },
      "source": [
        "accuracy_score(previsoes,Y_Teste)"
      ],
      "execution_count": null,
      "outputs": [
        {
          "output_type": "execute_result",
          "data": {
            "text/plain": [
              "0.9275"
            ]
          },
          "metadata": {
            "tags": []
          },
          "execution_count": 47
        }
      ]
    },
    {
      "cell_type": "markdown",
      "metadata": {
        "id": "JrgKBFjpUFaD"
      },
      "source": [
        "Importar biblioteca para visualização das métricas de acertos das previsões"
      ]
    },
    {
      "cell_type": "code",
      "metadata": {
        "id": "HVEeYcWTQuhu"
      },
      "source": [
        "from sklearn.metrics import confusion_matrix"
      ],
      "execution_count": null,
      "outputs": []
    },
    {
      "cell_type": "markdown",
      "metadata": {
        "id": "g8UXU0TCUbuj"
      },
      "source": [
        "Matriz com os totais de acertos e erros de cada eixo"
      ]
    },
    {
      "cell_type": "code",
      "metadata": {
        "colab": {
          "base_uri": "https://localhost:8080/"
        },
        "id": "Ne_hFL-5Q1A4",
        "outputId": "e25c5e81-f704-42da-88a8-857203e562c3"
      },
      "source": [
        "cm = confusion_matrix(previsoes, Y_Teste);\n",
        "cm"
      ],
      "execution_count": null,
      "outputs": [
        {
          "output_type": "execute_result",
          "data": {
            "text/plain": [
              "array([[339,  25],\n",
              "       [  4,  32]])"
            ]
          },
          "metadata": {
            "tags": []
          },
          "execution_count": 62
        }
      ]
    },
    {
      "cell_type": "markdown",
      "metadata": {
        "id": "PsUjiLBuU1XZ"
      },
      "source": [
        "Visualização das previsões do algoritmo (eixo 0,0 e 1,1 são acertos e os 0,1 e 1,0 são os erros."
      ]
    },
    {
      "cell_type": "code",
      "metadata": {
        "colab": {
          "base_uri": "https://localhost:8080/",
          "height": 282
        },
        "id": "k7fks1utQ8w7",
        "outputId": "fbff55a3-3713-4613-df78-13174fa4a665"
      },
      "source": [
        "sns.heatmap(cm,annot=True)"
      ],
      "execution_count": null,
      "outputs": [
        {
          "output_type": "execute_result",
          "data": {
            "text/plain": [
              "<matplotlib.axes._subplots.AxesSubplot at 0x7f1743717f50>"
            ]
          },
          "metadata": {
            "tags": []
          },
          "execution_count": 63
        },
        {
          "output_type": "display_data",
          "data": {
            "image/png": "[encoded data removed]",
            "text/plain": [
              "<Figure size 432x288 with 2 Axes>"
            ]
          },
          "metadata": {
            "tags": [],
            "needs_background": "light"
          }
        }
      ]
    },
    {
      "cell_type": "markdown",
      "metadata": {
        "id": "1Y9sjmQOVg88"
      },
      "source": [
        "Demonstração de como é feito o cálculo (soma de acertos, eixos 0,0 e 1,1 / soma total de todos os eixos)"
      ]
    },
    {
      "cell_type": "code",
      "metadata": {
        "colab": {
          "base_uri": "https://localhost:8080/"
        },
        "id": "SN-M-YRtRWpf",
        "outputId": "20c5d6c7-b3ac-4d8e-8505-b855296a6c7e"
      },
      "source": [
        "(339+32)/(339+32+25+4)"
      ],
      "execution_count": null,
      "outputs": [
        {
          "output_type": "execute_result",
          "data": {
            "text/plain": [
              "0.9275"
            ]
          },
          "metadata": {
            "tags": []
          },
          "execution_count": 64
        }
      ]
    },
    {
      "cell_type": "markdown",
      "metadata": {
        "id": "u2oON9xeSHVq"
      },
      "source": [
        "Percentual de acertos para as que pagam os empréstimos (valor no eixo 0,0 / soma da matriz superior)"
      ]
    },
    {
      "cell_type": "code",
      "metadata": {
        "colab": {
          "base_uri": "https://localhost:8080/"
        },
        "id": "pPK2uj-lR_J_",
        "outputId": "6fcd8f96-2825-4bc0-e2b2-767a39a5356c"
      },
      "source": [
        "339 / (339+25)"
      ],
      "execution_count": null,
      "outputs": [
        {
          "output_type": "execute_result",
          "data": {
            "text/plain": [
              "0.9313186813186813"
            ]
          },
          "metadata": {
            "tags": []
          },
          "execution_count": 65
        }
      ]
    },
    {
      "cell_type": "markdown",
      "metadata": {
        "id": "Ml9PlIbRSWpV"
      },
      "source": [
        "Percentual de acertos para as que não pagam os empréstimos (Valor no eixo 1,1 / soma da matriz inferior)"
      ]
    },
    {
      "cell_type": "code",
      "metadata": {
        "colab": {
          "base_uri": "https://localhost:8080/"
        },
        "id": "satSjxw2SaFV",
        "outputId": "4e49f6fc-166f-48fd-9475-858c8e56d86b"
      },
      "source": [
        "32 / (32 + 7)"
      ],
      "execution_count": null,
      "outputs": [
        {
          "output_type": "execute_result",
          "data": {
            "text/plain": [
              "0.8205128205128205"
            ]
          },
          "metadata": {
            "tags": []
          },
          "execution_count": 66
        }
      ]
    },
    {
      "cell_type": "markdown",
      "metadata": {
        "id": "ZTn_5FjpV9An"
      },
      "source": [
        "Exemplo de como o percentual pode influenciar. Cálculo de clientes que não serão catalogados corretamente pelo algoritmo"
      ]
    },
    {
      "cell_type": "code",
      "metadata": {
        "colab": {
          "base_uri": "https://localhost:8080/"
        },
        "id": "zaCri1f9TANR",
        "outputId": "1227dd82-4567-4c3e-c150-e064890951bf"
      },
      "source": [
        "#Ex: Perdas estimadas por cliente = 5.000\n",
        "#Ex: Total de Clientes não pagadores =1.000\n",
        "#Margem de erro 18%\n",
        "1000 * 18 / 100"
      ],
      "execution_count": null,
      "outputs": [
        {
          "output_type": "execute_result",
          "data": {
            "text/plain": [
              "180.0"
            ]
          },
          "metadata": {
            "tags": []
          },
          "execution_count": 56
        }
      ]
    },
    {
      "cell_type": "markdown",
      "metadata": {
        "id": "6Ba-mBA9WLR9"
      },
      "source": [
        "Total de clientes cálculo * valor médio do prejuízo por cliente"
      ]
    },
    {
      "cell_type": "code",
      "metadata": {
        "colab": {
          "base_uri": "https://localhost:8080/"
        },
        "id": "mHVi9chOTQUD",
        "outputId": "34a4add0-afa9-4dde-eae6-eee1075f0eca"
      },
      "source": [
        "180 * 5000"
      ],
      "execution_count": null,
      "outputs": [
        {
          "output_type": "execute_result",
          "data": {
            "text/plain": [
              "900000"
            ]
          },
          "metadata": {
            "tags": []
          },
          "execution_count": 57
        }
      ]
    },
    {
      "cell_type": "code",
      "metadata": {
        "id": "jFP7lEtncb7b"
      },
      "source": [
        ""
      ],
      "execution_count": null,
      "outputs": []
    },
    {
      "cell_type": "markdown",
      "metadata": {
        "id": "lvqUgyCRb_EA"
      },
      "source": [
        "# SubAmostragem (Undersampling) - Tomek Link"
      ]
    },
    {
      "cell_type": "markdown",
      "metadata": {
        "id": "q8Ru0HUGcrE7"
      },
      "source": [
        "Importar biblioteca para realização de retirada de registros"
      ]
    },
    {
      "cell_type": "code",
      "metadata": {
        "id": "tAqgKp8jcd8c"
      },
      "source": [
        "from imblearn.under_sampling import TomekLinks"
      ],
      "execution_count": null,
      "outputs": []
    },
    {
      "cell_type": "markdown",
      "metadata": {
        "id": "RpJLSMQFgghO"
      },
      "source": [
        "Cria o objeto para realizar a diminuição dos registros marjoritários dentros das bases X e Y, atribuindo o resultado para a x_under e y_under"
      ]
    },
    {
      "cell_type": "code",
      "metadata": {
        "colab": {
          "base_uri": "https://localhost:8080/"
        },
        "id": "AKHWXTONcyMd",
        "outputId": "a62d1ae2-52a5-4221-912e-ef6c83eef4f3"
      },
      "source": [
        "tl = TomekLinks(return_indices=True,ratio='majority')\n",
        "x_under,y_under,id_under= tl.fit_sample(X,Y);"
      ],
      "execution_count": null,
      "outputs": [
        {
          "output_type": "stream",
          "text": [
            "/usr/local/lib/python3.7/dist-packages/sklearn/utils/deprecation.py:87: FutureWarning: Function safe_indexing is deprecated; safe_indexing is deprecated in version 0.22 and will be removed in version 0.24.\n",
            "  warnings.warn(msg, category=FutureWarning)\n"
          ],
          "name": "stderr"
        }
      ]
    },
    {
      "cell_type": "markdown",
      "metadata": {
        "id": "UxeJhiwAguFd"
      },
      "source": [
        "Visualização dos resultados gerados"
      ]
    },
    {
      "cell_type": "code",
      "metadata": {
        "colab": {
          "base_uri": "https://localhost:8080/"
        },
        "id": "544rFkV7dTMA",
        "outputId": "09ebb421-8703-4afb-a527-92a926f66b30"
      },
      "source": [
        "x_under.shape, y_under.shape, id_under"
      ],
      "execution_count": null,
      "outputs": [
        {
          "output_type": "execute_result",
          "data": {
            "text/plain": [
              "((1897, 3), (1897,), array([   0,    1,    2, ..., 1994, 1995, 1996]))"
            ]
          },
          "metadata": {
            "tags": []
          },
          "execution_count": 77
        }
      ]
    },
    {
      "cell_type": "markdown",
      "metadata": {
        "id": "NZx5Iyksg0_F"
      },
      "source": [
        "Visualização de valores únicos na base de dados original extraída"
      ]
    },
    {
      "cell_type": "code",
      "metadata": {
        "colab": {
          "base_uri": "https://localhost:8080/"
        },
        "id": "oE7eFgZGd4rS",
        "outputId": "7d4efdc8-f3c0-47fb-a524-445c1d56e4c1"
      },
      "source": [
        "np.unique(Y,return_counts=True)"
      ],
      "execution_count": null,
      "outputs": [
        {
          "output_type": "execute_result",
          "data": {
            "text/plain": [
              "(array([0, 1]), array([1714,  283]))"
            ]
          },
          "metadata": {
            "tags": []
          },
          "execution_count": 71
        }
      ]
    },
    {
      "cell_type": "markdown",
      "metadata": {
        "id": "wTLpti8Gg52C"
      },
      "source": [
        "Visualização de valores únicos na base de dados gerada"
      ]
    },
    {
      "cell_type": "code",
      "metadata": {
        "colab": {
          "base_uri": "https://localhost:8080/"
        },
        "id": "Zdd-uuj_d-ds",
        "outputId": "d499fe03-58fa-47ef-81e8-4828ca02e2dc"
      },
      "source": [
        "np.unique(y_under,return_counts=True)"
      ],
      "execution_count": null,
      "outputs": [
        {
          "output_type": "execute_result",
          "data": {
            "text/plain": [
              "(array([0, 1]), array([1614,  283]))"
            ]
          },
          "metadata": {
            "tags": []
          },
          "execution_count": 72
        }
      ]
    },
    {
      "cell_type": "markdown",
      "metadata": {
        "id": "SVczqF76hBMo"
      },
      "source": [
        "Realização de amostragem estratificada baseada na nova base de dados. percentual de população nos testes igual à 20% "
      ]
    },
    {
      "cell_type": "code",
      "metadata": {
        "id": "5bIIjpswe9Zg"
      },
      "source": [
        "x_treinamento_u, x_teste_u, y_treinamento_u, y_teste_u= train_test_split(x_under,y_under,test_size=0.2,stratify=y_under)"
      ],
      "execution_count": null,
      "outputs": []
    },
    {
      "cell_type": "markdown",
      "metadata": {
        "id": "EBMR-E4rhNBU"
      },
      "source": [
        "Visualização dos resultados estratificados"
      ]
    },
    {
      "cell_type": "code",
      "metadata": {
        "colab": {
          "base_uri": "https://localhost:8080/"
        },
        "id": "ExoLiGQZfYl5",
        "outputId": "ac804a9a-3383-4cae-f190-f466c850dcaf"
      },
      "source": [
        "x_treinamento_u.shape, x_teste_u.shape, y_treinamento_u.shape, y_teste_u.shape"
      ],
      "execution_count": null,
      "outputs": [
        {
          "output_type": "execute_result",
          "data": {
            "text/plain": [
              "((1517, 3), (380, 3), (1517,), (380,))"
            ]
          },
          "metadata": {
            "tags": []
          },
          "execution_count": 81
        }
      ]
    },
    {
      "cell_type": "markdown",
      "metadata": {
        "id": "Cows5ysqhRFy"
      },
      "source": [
        "Criado novo modelo com de predição com base na nova base de dados"
      ]
    },
    {
      "cell_type": "code",
      "metadata": {
        "colab": {
          "base_uri": "https://localhost:8080/"
        },
        "id": "qZLFuQarfqys",
        "outputId": "f6d90026-4077-4c3c-d803-859ef342b341"
      },
      "source": [
        "modelo_u=GaussianNB()\n",
        "modelo_u.fit(x_treinamento_u,y_treinamento_u)\n",
        "previsoes_u=modelo.predict(x_teste_u)\n",
        "accuracy_score(previsoes_u,y_teste_u)"
      ],
      "execution_count": null,
      "outputs": [
        {
          "output_type": "execute_result",
          "data": {
            "text/plain": [
              "0.9105263157894737"
            ]
          },
          "metadata": {
            "tags": []
          },
          "execution_count": 84
        }
      ]
    },
    {
      "cell_type": "markdown",
      "metadata": {
        "id": "7Dn23yJ7hbMl"
      },
      "source": [
        "Demonstração da matriz de confusão com os percentuais de acertos e erros gerados"
      ]
    },
    {
      "cell_type": "code",
      "metadata": {
        "colab": {
          "base_uri": "https://localhost:8080/"
        },
        "id": "nBJpcS9SgB1c",
        "outputId": "edf33161-d08b-4feb-b48b-53fa1c41772c"
      },
      "source": [
        "cm_u=confusion_matrix(previsoes_u,y_teste_u)\n",
        "cm_u"
      ],
      "execution_count": null,
      "outputs": [
        {
          "output_type": "execute_result",
          "data": {
            "text/plain": [
              "array([[319,  30],\n",
              "       [  4,  27]])"
            ]
          },
          "metadata": {
            "tags": []
          },
          "execution_count": 85
        }
      ]
    },
    {
      "cell_type": "markdown",
      "metadata": {
        "id": "uopHuhaVhiwQ"
      },
      "source": [
        "Percentual de acertos para pagadores"
      ]
    },
    {
      "cell_type": "code",
      "metadata": {
        "colab": {
          "base_uri": "https://localhost:8080/"
        },
        "id": "qhT4nluNgBsl",
        "outputId": "967a5082-6f90-4cea-f676-b2fa4fa61101"
      },
      "source": [
        "319 / (319+30)"
      ],
      "execution_count": null,
      "outputs": [
        {
          "output_type": "execute_result",
          "data": {
            "text/plain": [
              "0.9140401146131805"
            ]
          },
          "metadata": {
            "tags": []
          },
          "execution_count": 86
        }
      ]
    },
    {
      "cell_type": "markdown",
      "metadata": {
        "id": "fsWcF87thl2k"
      },
      "source": [
        "Percentual de acertos para devedores"
      ]
    },
    {
      "cell_type": "code",
      "metadata": {
        "colab": {
          "base_uri": "https://localhost:8080/"
        },
        "id": "UITPdMV3gUUn",
        "outputId": "2e63ea88-7806-4086-e5a9-ec97c9957ceb"
      },
      "source": [
        "27 / (27+4)"
      ],
      "execution_count": null,
      "outputs": [
        {
          "output_type": "execute_result",
          "data": {
            "text/plain": [
              "0.8709677419354839"
            ]
          },
          "metadata": {
            "tags": []
          },
          "execution_count": 87
        }
      ]
    },
    {
      "cell_type": "markdown",
      "metadata": {
        "id": "y8ulCAcqhs21"
      },
      "source": [
        "# SobreAmostragem (Oversampling) - SMOTE"
      ]
    },
    {
      "cell_type": "markdown",
      "metadata": {
        "id": "vxtKPQ84ADC0"
      },
      "source": [
        "Importar biblioteca para criação de registro no elemento com menores quantidades"
      ]
    },
    {
      "cell_type": "code",
      "metadata": {
        "id": "WfN-RBsj84Rc"
      },
      "source": [
        "from imblearn.over_sampling import SMOTE "
      ],
      "execution_count": null,
      "outputs": []
    },
    {
      "cell_type": "markdown",
      "metadata": {
        "id": "1Q1YiJVGAOSN"
      },
      "source": [
        "Cria o objeto que preencherá os elementos com menos dados dos datasets e atribuirá o resultado aos mesmos "
      ]
    },
    {
      "cell_type": "code",
      "metadata": {
        "colab": {
          "base_uri": "https://localhost:8080/"
        },
        "id": "HQ-bRVY09Bkz",
        "outputId": "f880ffb4-e02c-409d-a664-f39c09dc3d17"
      },
      "source": [
        "smote = SMOTE(ratio=\"minority\")\n",
        "x_over, y_over=smote.fit_sample(X,Y)"
      ],
      "execution_count": null,
      "outputs": [
        {
          "output_type": "stream",
          "text": [
            "/usr/local/lib/python3.7/dist-packages/sklearn/utils/deprecation.py:87: FutureWarning: Function safe_indexing is deprecated; safe_indexing is deprecated in version 0.22 and will be removed in version 0.24.\n",
            "  warnings.warn(msg, category=FutureWarning)\n"
          ],
          "name": "stderr"
        }
      ]
    },
    {
      "cell_type": "markdown",
      "metadata": {
        "id": "2mbtOPOfAZU_"
      },
      "source": [
        "Visualização dos resultados gerados"
      ]
    },
    {
      "cell_type": "code",
      "metadata": {
        "colab": {
          "base_uri": "https://localhost:8080/"
        },
        "id": "473T8lNL9aLe",
        "outputId": "148cec24-1fc9-43d4-817a-226df715e57c"
      },
      "source": [
        "x_over.shape, y_over.shape"
      ],
      "execution_count": null,
      "outputs": [
        {
          "output_type": "execute_result",
          "data": {
            "text/plain": [
              "((3428, 3), (3428,))"
            ]
          },
          "metadata": {
            "tags": []
          },
          "execution_count": 91
        }
      ]
    },
    {
      "cell_type": "markdown",
      "metadata": {
        "id": "GXRjcKHOAdMX"
      },
      "source": [
        "Mostra a quantidade de valores únicos no dataset original extraído"
      ]
    },
    {
      "cell_type": "code",
      "metadata": {
        "colab": {
          "base_uri": "https://localhost:8080/"
        },
        "id": "47sNETuR9pNA",
        "outputId": "5b1ea868-efbe-49d4-d6ea-6a02ce460e59"
      },
      "source": [
        "np.unique(Y,return_counts=True)"
      ],
      "execution_count": null,
      "outputs": [
        {
          "output_type": "execute_result",
          "data": {
            "text/plain": [
              "(array([0, 1]), array([1714,  283]))"
            ]
          },
          "metadata": {
            "tags": []
          },
          "execution_count": 92
        }
      ]
    },
    {
      "cell_type": "markdown",
      "metadata": {
        "id": "Qk43IuAyAjZY"
      },
      "source": [
        "Mostra a quantidade de valores únicos no dataset gerado"
      ]
    },
    {
      "cell_type": "code",
      "metadata": {
        "colab": {
          "base_uri": "https://localhost:8080/"
        },
        "id": "J8Iv6uLA9soM",
        "outputId": "7b576807-7111-45e5-ee4c-be602519262f"
      },
      "source": [
        "np.unique(y_over,return_counts=True)"
      ],
      "execution_count": null,
      "outputs": [
        {
          "output_type": "execute_result",
          "data": {
            "text/plain": [
              "(array([0, 1]), array([1714, 1714]))"
            ]
          },
          "metadata": {
            "tags": []
          },
          "execution_count": 93
        }
      ]
    },
    {
      "cell_type": "markdown",
      "metadata": {
        "id": "nvWM0xjhAo5Y"
      },
      "source": [
        "Cria as bases de treinamento e teste com base nos datasets gerados. O percentual dos testes é 20%."
      ]
    },
    {
      "cell_type": "code",
      "metadata": {
        "id": "vJ6o6ZA-9697"
      },
      "source": [
        "x_treinamento_o, x_teste_o, y_treinamento_o, y_teste_o = train_test_split(x_over,y_over,test_size=0.2,stratify=y_over)"
      ],
      "execution_count": null,
      "outputs": []
    },
    {
      "cell_type": "markdown",
      "metadata": {
        "id": "ojuW130sAy8s"
      },
      "source": [
        "Visualização dos resultados gerados de treinamento e teste"
      ]
    },
    {
      "cell_type": "code",
      "metadata": {
        "colab": {
          "base_uri": "https://localhost:8080/"
        },
        "id": "w4yn9KAm-O8J",
        "outputId": "acce2f84-9b5b-467b-e732-f86d06b46945"
      },
      "source": [
        "x_treinamento_o.shape, x_teste_o.shape"
      ],
      "execution_count": null,
      "outputs": [
        {
          "output_type": "execute_result",
          "data": {
            "text/plain": [
              "((2742, 3), (686, 3))"
            ]
          },
          "metadata": {
            "tags": []
          },
          "execution_count": 98
        }
      ]
    },
    {
      "cell_type": "markdown",
      "metadata": {
        "id": "mQnHqtarA5K5"
      },
      "source": [
        "Cria o modelo com base nos dados de treinamento, resultando nas previsões com base nos testes e demonstrando seu percentual de acertos."
      ]
    },
    {
      "cell_type": "code",
      "metadata": {
        "colab": {
          "base_uri": "https://localhost:8080/"
        },
        "id": "S8vR6_1k-bBh",
        "outputId": "24927aab-65c0-4f0c-d18b-f24311734dd4"
      },
      "source": [
        "modelo_o = GaussianNB()\n",
        "modelo_o.fit(x_treinamento_o,y_treinamento_o)\n",
        "previsoes_o = modelo_o.predict(x_teste_o)\n",
        "accuracy_score(previsoes_o,y_teste_o)"
      ],
      "execution_count": null,
      "outputs": [
        {
          "output_type": "execute_result",
          "data": {
            "text/plain": [
              "0.9198250728862973"
            ]
          },
          "metadata": {
            "tags": []
          },
          "execution_count": 101
        }
      ]
    },
    {
      "cell_type": "markdown",
      "metadata": {
        "id": "FIHwiA_4BOBC"
      },
      "source": [
        "Visualização dos acertos e erros nos eixos"
      ]
    },
    {
      "cell_type": "code",
      "metadata": {
        "colab": {
          "base_uri": "https://localhost:8080/"
        },
        "id": "9_BnGcHd_DyJ",
        "outputId": "3bfa1763-2733-4dfc-985d-8a032953b1e1"
      },
      "source": [
        "cm_o= confusion_matrix(previsoes_o,y_teste_o)\n",
        "cm_o"
      ],
      "execution_count": null,
      "outputs": [
        {
          "output_type": "execute_result",
          "data": {
            "text/plain": [
              "array([[301,  13],\n",
              "       [ 42, 330]])"
            ]
          },
          "metadata": {
            "tags": []
          },
          "execution_count": 103
        }
      ]
    },
    {
      "cell_type": "markdown",
      "metadata": {
        "id": "-ME1Wzn3Bcm7"
      },
      "source": [
        "Percentual dos acertos dos pagadores"
      ]
    },
    {
      "cell_type": "code",
      "metadata": {
        "colab": {
          "base_uri": "https://localhost:8080/"
        },
        "id": "3hbPzQYv_PeK",
        "outputId": "e6fe5af6-1096-4405-ec45-d96457151d86"
      },
      "source": [
        "301 / (301+13)"
      ],
      "execution_count": null,
      "outputs": [
        {
          "output_type": "execute_result",
          "data": {
            "text/plain": [
              "0.9585987261146497"
            ]
          },
          "metadata": {
            "tags": []
          },
          "execution_count": 104
        }
      ]
    },
    {
      "cell_type": "markdown",
      "metadata": {
        "id": "N_vbc0wbBV8W"
      },
      "source": [
        "Percentual dos acertos dos devedores"
      ]
    },
    {
      "cell_type": "code",
      "metadata": {
        "colab": {
          "base_uri": "https://localhost:8080/"
        },
        "id": "X3iC-UMp_SkT",
        "outputId": "b68db542-9132-41a9-f4ce-7f918269fd18"
      },
      "source": [
        "330 / (42+330)"
      ],
      "execution_count": null,
      "outputs": [
        {
          "output_type": "execute_result",
          "data": {
            "text/plain": [
              "0.8870967741935484"
            ]
          },
          "metadata": {
            "tags": []
          },
          "execution_count": 105
        }
      ]
    },
    {
      "cell_type": "markdown",
      "metadata": {
        "id": "6RX0NraTBpbg"
      },
      "source": [
        "Exemplo prejuízo resultante da análise, verificando a quantidade de clientes que não pagaram."
      ]
    },
    {
      "cell_type": "code",
      "metadata": {
        "colab": {
          "base_uri": "https://localhost:8080/"
        },
        "id": "jaDUKgwm_e0u",
        "outputId": "08fac1bc-2aac-4864-955b-5e8db3dd94e4"
      },
      "source": [
        "#Perdas: 5.000\n",
        "#Clientes não pagadores: 1.000\n",
        "1000*12/100"
      ],
      "execution_count": null,
      "outputs": [
        {
          "output_type": "execute_result",
          "data": {
            "text/plain": [
              "120.0"
            ]
          },
          "metadata": {
            "tags": []
          },
          "execution_count": 106
        }
      ]
    },
    {
      "cell_type": "markdown",
      "metadata": {
        "id": "0T6OeYSIB4hE"
      },
      "source": [
        "Verifica o valor do prejuízo gerado com base na quantidade de cliente * valor por cliente."
      ]
    },
    {
      "cell_type": "code",
      "metadata": {
        "colab": {
          "base_uri": "https://localhost:8080/"
        },
        "id": "wZS_6AIu_qlE",
        "outputId": "9d0f871b-3e87-4533-8e5e-48fdf2455b15"
      },
      "source": [
        "5000*120"
      ],
      "execution_count": null,
      "outputs": [
        {
          "output_type": "execute_result",
          "data": {
            "text/plain": [
              "600000"
            ]
          },
          "metadata": {
            "tags": []
          },
          "execution_count": 107
        }
      ]
    },
    {
      "cell_type": "markdown",
      "metadata": {
        "id": "CqnLYrZpCAk7"
      },
      "source": [
        "Comparação do prejuízo original (amostragem com dados desbalanceados) com a sobreamostragem"
      ]
    },
    {
      "cell_type": "code",
      "metadata": {
        "colab": {
          "base_uri": "https://localhost:8080/"
        },
        "id": "36PkDweL_w-A",
        "outputId": "c8dafe4d-f536-4a64-91d7-7cf87fb75840"
      },
      "source": [
        "900000-600000"
      ],
      "execution_count": null,
      "outputs": [
        {
          "output_type": "execute_result",
          "data": {
            "text/plain": [
              "300000"
            ]
          },
          "metadata": {
            "tags": []
          },
          "execution_count": 108
        }
      ]
    }
  ]
}